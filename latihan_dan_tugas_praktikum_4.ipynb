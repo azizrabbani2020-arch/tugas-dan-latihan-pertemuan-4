{
  "nbformat": 4,
  "nbformat_minor": 0,
  "metadata": {
    "colab": {
      "provenance": [],
      "authorship_tag": "ABX9TyMJHpeByGUapEeL4VLR+EV8",
      "include_colab_link": true
    },
    "kernelspec": {
      "name": "python3",
      "display_name": "Python 3"
    },
    "language_info": {
      "name": "python"
    }
  },
  "cells": [
    {
      "cell_type": "markdown",
      "metadata": {
        "id": "view-in-github",
        "colab_type": "text"
      },
      "source": [
        "<a href=\"https://colab.research.google.com/github/azizrabbani2020-arch/tugas-dan-latihan-pertemuan-4/blob/main/latihan_dan_tugas_praktikum_4.ipynb\" target=\"_parent\"><img src=\"https://colab.research.google.com/assets/colab-badge.svg\" alt=\"Open In Colab\"/></a>"
      ]
    },
    {
      "cell_type": "code",
      "execution_count": 30,
      "metadata": {
        "colab": {
          "base_uri": "https://localhost:8080/"
        },
        "id": "NZ-vpGaQ8MRi",
        "outputId": "5eb3987a-318c-4876-a54e-578e9be2aed4"
      },
      "outputs": [
        {
          "output_type": "stream",
          "name": "stdout",
          "text": [
            "masukkan angka : 5\n",
            "kelipatan 5\n"
          ]
        }
      ],
      "source": [
        "angka = input(\"masukkan angka : \")\n",
        "\n",
        "if int(angka) % 5 == 0:\n",
        "    print(\"kelipatan 5\")\n",
        "else:\n",
        "    print(\"bukan kelipatan 5\")"
      ]
    },
    {
      "cell_type": "code",
      "source": [
        "tahun = int(input(\"Masukkan tahun: \"))\n",
        "\n",
        "if tahun % 400 == 0:\n",
        "    print(f\"{tahun} adalah tahun kabisat (habis dibagi 400)\")\n",
        "elif tahun % 4 == 0 and tahun % 100 != 0:\n",
        "    print(f\"{tahun} adalah tahun kabisat (habis dibagi 4 dan tidak habis dibagi 100)\")\n",
        "else:\n",
        "    print(f\"{tahun} bukan tahun kabisat\")\n"
      ],
      "metadata": {
        "colab": {
          "base_uri": "https://localhost:8080/"
        },
        "id": "_DktXwEdLBIz",
        "outputId": "9be7cb2e-8e07-4fbb-e7b0-92a871d38ed9"
      },
      "execution_count": 33,
      "outputs": [
        {
          "output_type": "stream",
          "name": "stdout",
          "text": [
            "Masukkan tahun: 2100\n",
            "2100 bukan tahun kabisat\n"
          ]
        }
      ]
    },
    {
      "cell_type": "code",
      "source": [
        "soal = int(input(\"250 + 375-125 = \"))\n",
        "jawaban = int(500)\n",
        "\n",
        "if soal == jawaban:\n",
        "    print(\"jawaban benar\")\n",
        "else:\n",
        "    print(\"jawaban salah\")"
      ],
      "metadata": {
        "colab": {
          "base_uri": "https://localhost:8080/"
        },
        "id": "c1jo13JTLr0z",
        "outputId": "44f3ddab-6536-41ba-c929-a830e34f853e"
      },
      "execution_count": 52,
      "outputs": [
        {
          "output_type": "stream",
          "name": "stdout",
          "text": [
            "250 + 375-125 = 500\n",
            "jawaban benar\n"
          ]
        }
      ]
    },
    {
      "cell_type": "code",
      "source": [
        "bulan = int(input(\"Masukkan angka bulan (1-12): \"))\n",
        "\n",
        "daftar_bulan = [\"Januari\", \"Februari\", \"Maret\", \"April\", \"Mei\", \"Juni\",\n",
        "    \"Juli\", \"Agustus\", \"September\", \"Oktober\", \"November\", \"Desember\"]\n",
        "\n",
        "if 1 <= bulan <= 12:\n",
        "    print(f\"Bulan ke-{bulan} adalah {daftar_bulan[bulan-1]}\")\n",
        "else:\n",
        "    print(\"Input salah\")\n"
      ],
      "metadata": {
        "colab": {
          "base_uri": "https://localhost:8080/"
        },
        "id": "1RSnE2DuPZo3",
        "outputId": "61fb7c59-8a45-48c4-cbb3-3ea96c955d80"
      },
      "execution_count": 54,
      "outputs": [
        {
          "output_type": "stream",
          "name": "stdout",
          "text": [
            "Masukkan angka bulan (1-12): 13\n",
            "Input salah\n"
          ]
        }
      ]
    },
    {
      "cell_type": "code",
      "source": [
        "jam = int(input(\"Masukkan jam (0-23): \"))\n",
        "\n",
        "if 0 <= jam <= 11:\n",
        "    print(\"Selamat Pagi\")\n",
        "elif 12 <= jam <= 15:\n",
        "    print(\"Selamat Siang\")\n",
        "elif 16 <= jam <= 18:\n",
        "    print(\"Selamat Sore\")\n",
        "elif 19 <= jam <= 23:\n",
        "    print(\"Selamat Malam\")\n",
        "else:\n",
        "    print(\"Input salah, jam harus 0-23\")\n"
      ],
      "metadata": {
        "colab": {
          "base_uri": "https://localhost:8080/"
        },
        "id": "MD608XeJST3X",
        "outputId": "6f32bc97-b961-4b9a-caf2-1455c94040f0"
      },
      "execution_count": 56,
      "outputs": [
        {
          "output_type": "stream",
          "name": "stdout",
          "text": [
            "Masukkan jam (0-23): 12\n",
            "Selamat Siang\n"
          ]
        }
      ]
    },
    {
      "cell_type": "code",
      "source": [
        "print(\"=\"*30)\n",
        "print(\"SELAMAT DATANG DI KAFE GEMINI\")\n",
        "print(\"=\"*30)\n",
        "print(\"Menu Makanan & Minuman:\")\n",
        "print(\"1. Kopi Hitam   - Rp 12.000\")\n",
        "print(\"2. Teh Manis    - Rp 8.000\")\n",
        "print(\"3. Roti Bakar   - Rp 15.000\")\n",
        "print(\"4. Mie Instan   - Rp 10.000\")\n",
        "print(\"=\"*30)\n",
        "\n",
        "pilihan_str = input(\"Silakan masukkan nomor pilihan Anda (1-4): \")\n",
        "pilihan = int(pilihan_str)\n",
        "nama_pesanan = \"\"\n",
        "harga = 0\n",
        "\n",
        "if pilihan == 1:\n",
        "    nama_pesanan = \"Kopi Hitam\"\n",
        "    harga = 12000\n",
        "elif pilihan == 2:\n",
        "    nama_pesanan = \"Teh Manis\"\n",
        "    harga = 8000\n",
        "elif pilihan == 3:\n",
        "    nama_pesanan = \"Roti Bakar\"\n",
        "    harga = 15000\n",
        "elif pilihan == 4:\n",
        "    nama_pesanan = \"Mie Instan\"\n",
        "    harga = 10000\n",
        "else:\n",
        "    print(\"Maaf, pilihan menu tidak valid. Silakan jalankan ulang program.\")\n",
        "\n",
        "if harga > 0:\n",
        "    print(f\"Anda memesan: {nama_pesanan} dengan harga Rp {harga}\")\n",
        "\n",
        "    # Penentuan diskon berdasarkan total belanja\n",
        "    if harga >= 15000:\n",
        "        diskon = 0.70   # 70%\n",
        "    elif harga >= 10000:\n",
        "        diskon = 0.50   # 50%\n",
        "    else:\n",
        "        diskon = 0.30   # 30%\n",
        "\n",
        "    potongan = harga * diskon\n",
        "    total_bayar = harga - potongan\n",
        "\n",
        "    print(f\"Diskon yang Anda dapatkan: {int(diskon*100)}%\")\n",
        "    print(f\"Total setelah diskon: Rp {total_bayar}\")\n",
        "\n",
        "    print(\"=\"*30)\n",
        "    uang_dibayar_str = input(f\"Total yang harus dibayar: Rp {total_bayar}. Masukkan jumlah uang Anda: Rp \")\n",
        "    uang_dibayar = int(uang_dibayar_str)\n",
        "\n",
        "    if uang_dibayar >= total_bayar:\n",
        "        kembalian = uang_dibayar - total_bayar\n",
        "        print(\"\\n-- Struk Pembayaran --\")\n",
        "        print(f\"Pesanan Anda  : {nama_pesanan}\")\n",
        "        print(f\"Total Harga   : Rp {harga}\")\n",
        "        print(f\"Diskon        : Rp {potongan}\")\n",
        "        print(f\"Total Bayar   : Rp {total_bayar}\")\n",
        "        print(f\"Uang Dibayar  : Rp {uang_dibayar}\")\n",
        "        print(f\"Kembalian     : Rp {kembalian}\")\n",
        "        print(\"=\"*30)\n",
        "        print(\"Terima kasih telah berbelanja!\")\n",
        "    else:\n",
        "        kekurangan = total_bayar - uang_dibayar\n",
        "        print(f\"Maaf, uang Anda kurang sebesar Rp {kekurangan}\")\n"
      ],
      "metadata": {
        "colab": {
          "base_uri": "https://localhost:8080/"
        },
        "id": "AeVxeHWySkeA",
        "outputId": "2c94e63e-ef1c-480b-e229-9a89368a7b96"
      },
      "execution_count": 57,
      "outputs": [
        {
          "output_type": "stream",
          "name": "stdout",
          "text": [
            "==============================\n",
            "SELAMAT DATANG DI KAFE GEMINI\n",
            "==============================\n",
            "Menu Makanan & Minuman:\n",
            "1. Kopi Hitam   - Rp 12.000\n",
            "2. Teh Manis    - Rp 8.000\n",
            "3. Roti Bakar   - Rp 15.000\n",
            "4. Mie Instan   - Rp 10.000\n",
            "==============================\n",
            "Silakan masukkan nomor pilihan Anda (1-4): 3\n",
            "Anda memesan: Roti Bakar dengan harga Rp 15000\n",
            "Diskon yang Anda dapatkan: 70%\n",
            "Total setelah diskon: Rp 4500.0\n",
            "==============================\n",
            "Total yang harus dibayar: Rp 4500.0. Masukkan jumlah uang Anda: Rp 5000\n",
            "\n",
            "-- Struk Pembayaran --\n",
            "Pesanan Anda  : Roti Bakar\n",
            "Total Harga   : Rp 15000\n",
            "Diskon        : Rp 10500.0\n",
            "Total Bayar   : Rp 4500.0\n",
            "Uang Dibayar  : Rp 5000\n",
            "Kembalian     : Rp 500.0\n",
            "==============================\n",
            "Terima kasih telah berbelanja!\n"
          ]
        }
      ]
    }
  ]
}